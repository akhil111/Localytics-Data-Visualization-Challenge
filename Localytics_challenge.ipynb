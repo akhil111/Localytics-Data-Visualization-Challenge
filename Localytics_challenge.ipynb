{
 "cells": [
  {
   "cell_type": "code",
   "execution_count": 126,
   "metadata": {
    "collapsed": true
   },
   "outputs": [],
   "source": [
    "import numpy as np\n",
    "import pandas as pd\n",
    "import seaborn as sns\n",
    "import matplotlib.pyplot as plt"
   ]
  },
  {
   "cell_type": "code",
   "execution_count": 7,
   "metadata": {},
   "outputs": [],
   "source": [
    "df=pd.read_json('data.json',orient='split')"
   ]
  },
  {
   "cell_type": "code",
   "execution_count": 8,
   "metadata": {},
   "outputs": [
    {
     "data": {
      "text/plain": [
       "(50000, 10)"
      ]
     },
     "execution_count": 8,
     "metadata": {},
     "output_type": "execute_result"
    }
   ],
   "source": [
    "df.shape"
   ]
  },
  {
   "cell_type": "code",
   "execution_count": 9,
   "metadata": {},
   "outputs": [
    {
     "data": {
      "text/html": [
       "<div>\n",
       "<style>\n",
       "    .dataframe thead tr:only-child th {\n",
       "        text-align: right;\n",
       "    }\n",
       "\n",
       "    .dataframe thead th {\n",
       "        text-align: left;\n",
       "    }\n",
       "\n",
       "    .dataframe tbody tr th {\n",
       "        vertical-align: top;\n",
       "    }\n",
       "</style>\n",
       "<table border=\"1\" class=\"dataframe\">\n",
       "  <thead>\n",
       "    <tr style=\"text-align: right;\">\n",
       "      <th></th>\n",
       "      <th>age</th>\n",
       "      <th>amount</th>\n",
       "      <th>category</th>\n",
       "      <th>client_time</th>\n",
       "      <th>device</th>\n",
       "      <th>event_name</th>\n",
       "      <th>gender</th>\n",
       "      <th>location</th>\n",
       "      <th>marital_status</th>\n",
       "      <th>session_id</th>\n",
       "    </tr>\n",
       "  </thead>\n",
       "  <tbody>\n",
       "    <tr>\n",
       "      <th>0</th>\n",
       "      <td>18-24</td>\n",
       "      <td>NaN</td>\n",
       "      <td>Sports</td>\n",
       "      <td>2014-03-01 00:00:04</td>\n",
       "      <td>android</td>\n",
       "      <td>View Project</td>\n",
       "      <td>M</td>\n",
       "      <td>{'state': 'CO', 'longitude': -105.35528, 'zip_...</td>\n",
       "      <td>married</td>\n",
       "      <td>69f62d2ae87640f5a2dde2b2e9229fe6</td>\n",
       "    </tr>\n",
       "    <tr>\n",
       "      <th>1</th>\n",
       "      <td>18-24</td>\n",
       "      <td>NaN</td>\n",
       "      <td>Technology</td>\n",
       "      <td>2014-03-01 00:00:22</td>\n",
       "      <td>iOS</td>\n",
       "      <td>View Project</td>\n",
       "      <td>M</td>\n",
       "      <td>{'state': 'GA', 'longitude': -84.47405, 'zip_c...</td>\n",
       "      <td>single</td>\n",
       "      <td>4459d001feb8438eae5f4ec24abcd992</td>\n",
       "    </tr>\n",
       "    <tr>\n",
       "      <th>2</th>\n",
       "      <td>55+</td>\n",
       "      <td>NaN</td>\n",
       "      <td>Environment</td>\n",
       "      <td>2014-03-01 00:00:32</td>\n",
       "      <td>iOS</td>\n",
       "      <td>View Project</td>\n",
       "      <td>M</td>\n",
       "      <td>{'state': 'MA', 'longitude': -71.459405, 'zip_...</td>\n",
       "      <td>single</td>\n",
       "      <td>0db9ed700a184d48a9d04806696e3642</td>\n",
       "    </tr>\n",
       "    <tr>\n",
       "      <th>3</th>\n",
       "      <td>18-24</td>\n",
       "      <td>NaN</td>\n",
       "      <td>Technology</td>\n",
       "      <td>2014-03-01 00:00:38</td>\n",
       "      <td>android</td>\n",
       "      <td>View Project</td>\n",
       "      <td>M</td>\n",
       "      <td>{'state': 'NY', 'longitude': -73.809266, 'zip_...</td>\n",
       "      <td>single</td>\n",
       "      <td>68195e2372bd4022b17220fc21de9138</td>\n",
       "    </tr>\n",
       "    <tr>\n",
       "      <th>4</th>\n",
       "      <td>25-34</td>\n",
       "      <td>NaN</td>\n",
       "      <td>Sports</td>\n",
       "      <td>2014-03-01 00:00:51</td>\n",
       "      <td>iOS</td>\n",
       "      <td>View Project</td>\n",
       "      <td>F</td>\n",
       "      <td>{'state': 'MO', 'longitude': -93.458626, 'zip_...</td>\n",
       "      <td>married</td>\n",
       "      <td>9508a8385dc94773baba8aa7d1c2aa75</td>\n",
       "    </tr>\n",
       "  </tbody>\n",
       "</table>\n",
       "</div>"
      ],
      "text/plain": [
       "     age  amount     category         client_time   device    event_name  \\\n",
       "0  18-24     NaN       Sports 2014-03-01 00:00:04  android  View Project   \n",
       "1  18-24     NaN   Technology 2014-03-01 00:00:22      iOS  View Project   \n",
       "2    55+     NaN  Environment 2014-03-01 00:00:32      iOS  View Project   \n",
       "3  18-24     NaN   Technology 2014-03-01 00:00:38  android  View Project   \n",
       "4  25-34     NaN       Sports 2014-03-01 00:00:51      iOS  View Project   \n",
       "\n",
       "  gender                                           location marital_status  \\\n",
       "0      M  {'state': 'CO', 'longitude': -105.35528, 'zip_...        married   \n",
       "1      M  {'state': 'GA', 'longitude': -84.47405, 'zip_c...         single   \n",
       "2      M  {'state': 'MA', 'longitude': -71.459405, 'zip_...         single   \n",
       "3      M  {'state': 'NY', 'longitude': -73.809266, 'zip_...         single   \n",
       "4      F  {'state': 'MO', 'longitude': -93.458626, 'zip_...        married   \n",
       "\n",
       "                         session_id  \n",
       "0  69f62d2ae87640f5a2dde2b2e9229fe6  \n",
       "1  4459d001feb8438eae5f4ec24abcd992  \n",
       "2  0db9ed700a184d48a9d04806696e3642  \n",
       "3  68195e2372bd4022b17220fc21de9138  \n",
       "4  9508a8385dc94773baba8aa7d1c2aa75  "
      ]
     },
     "execution_count": 9,
     "metadata": {},
     "output_type": "execute_result"
    }
   ],
   "source": [
    "df.head()"
   ]
  },
  {
   "cell_type": "code",
   "execution_count": 43,
   "metadata": {},
   "outputs": [],
   "source": [
    "df['client_time'] = pd.to_datetime(df['client_time'], errors='coerce')"
   ]
  },
  {
   "cell_type": "code",
   "execution_count": 52,
   "metadata": {},
   "outputs": [],
   "source": [
    "df['year']=df['client_time'].dt.year\n",
    "df['month']=df['client_time'].dt.month\n",
    "df['day']=df['client_time'].dt.day\n",
    "df['hour']=df['client_time'].dt.hour\n",
    "df['minute']=df['client_time'].dt.minute\n",
    "df['second']=df['client_time'].dt.second"
   ]
  },
  {
   "cell_type": "code",
   "execution_count": 66,
   "metadata": {},
   "outputs": [
    {
     "data": {
      "text/plain": [
       "dict_keys(['state', 'longitude', 'zip_code', 'latitude', 'city'])"
      ]
     },
     "execution_count": 66,
     "metadata": {},
     "output_type": "execute_result"
    }
   ],
   "source": [
    "df['location'][0].keys()"
   ]
  },
  {
   "cell_type": "code",
   "execution_count": 67,
   "metadata": {},
   "outputs": [],
   "source": [
    "d=df['location'][0]"
   ]
  },
  {
   "cell_type": "code",
   "execution_count": 74,
   "metadata": {},
   "outputs": [],
   "source": [
    "state=[]\n",
    "longitude=[]\n",
    "zip_code=[]\n",
    "latitude=[]\n",
    "city=[]\n",
    "for i in df['location'].values.tolist():\n",
    "    d=i.keys()\n",
    "    \n",
    "    state.append(i.get('state'))\n",
    "    longitude.append(i.get('longitude'))\n",
    "    zip_code.append(i.get('zip_code'))\n",
    "    latitude.append(i.get('latitude'))\n",
    "    city.append(i.get('city'))"
   ]
  },
  {
   "cell_type": "code",
   "execution_count": 87,
   "metadata": {},
   "outputs": [],
   "source": [
    "dd=['state','longitude','zip_code','latitude','city']\n",
    "df['state']=state\n",
    "df['longitude']=longitude\n",
    "df['zip_code']=zip_code\n",
    "df['latitude']=latitude\n",
    "df['city']=city"
   ]
  },
  {
   "cell_type": "code",
   "execution_count": 101,
   "metadata": {},
   "outputs": [
    {
     "data": {
      "text/html": [
       "<div>\n",
       "<style>\n",
       "    .dataframe thead tr:only-child th {\n",
       "        text-align: right;\n",
       "    }\n",
       "\n",
       "    .dataframe thead th {\n",
       "        text-align: left;\n",
       "    }\n",
       "\n",
       "    .dataframe tbody tr th {\n",
       "        vertical-align: top;\n",
       "    }\n",
       "</style>\n",
       "<table border=\"1\" class=\"dataframe\">\n",
       "  <thead>\n",
       "    <tr style=\"text-align: right;\">\n",
       "      <th></th>\n",
       "      <th>age</th>\n",
       "      <th>amount</th>\n",
       "      <th>category</th>\n",
       "      <th>device</th>\n",
       "      <th>event_name</th>\n",
       "      <th>gender</th>\n",
       "      <th>marital_status</th>\n",
       "      <th>year</th>\n",
       "      <th>month</th>\n",
       "      <th>day</th>\n",
       "      <th>hour</th>\n",
       "      <th>minute</th>\n",
       "      <th>second</th>\n",
       "      <th>state</th>\n",
       "      <th>longitude</th>\n",
       "      <th>zip_code</th>\n",
       "      <th>latitude</th>\n",
       "      <th>city</th>\n",
       "    </tr>\n",
       "  </thead>\n",
       "  <tbody>\n",
       "    <tr>\n",
       "      <th>0</th>\n",
       "      <td>18-24</td>\n",
       "      <td>NaN</td>\n",
       "      <td>Sports</td>\n",
       "      <td>android</td>\n",
       "      <td>View Project</td>\n",
       "      <td>M</td>\n",
       "      <td>married</td>\n",
       "      <td>2014</td>\n",
       "      <td>3</td>\n",
       "      <td>1</td>\n",
       "      <td>0</td>\n",
       "      <td>0</td>\n",
       "      <td>4</td>\n",
       "      <td>CO</td>\n",
       "      <td>-105.355280</td>\n",
       "      <td>80540</td>\n",
       "      <td>40.189788</td>\n",
       "      <td>Lyons</td>\n",
       "    </tr>\n",
       "    <tr>\n",
       "      <th>1</th>\n",
       "      <td>18-24</td>\n",
       "      <td>NaN</td>\n",
       "      <td>Technology</td>\n",
       "      <td>iOS</td>\n",
       "      <td>View Project</td>\n",
       "      <td>M</td>\n",
       "      <td>single</td>\n",
       "      <td>2014</td>\n",
       "      <td>3</td>\n",
       "      <td>1</td>\n",
       "      <td>0</td>\n",
       "      <td>0</td>\n",
       "      <td>22</td>\n",
       "      <td>GA</td>\n",
       "      <td>-84.474050</td>\n",
       "      <td>30009</td>\n",
       "      <td>33.844371</td>\n",
       "      <td>Alpharetta</td>\n",
       "    </tr>\n",
       "    <tr>\n",
       "      <th>2</th>\n",
       "      <td>55+</td>\n",
       "      <td>NaN</td>\n",
       "      <td>Environment</td>\n",
       "      <td>iOS</td>\n",
       "      <td>View Project</td>\n",
       "      <td>M</td>\n",
       "      <td>single</td>\n",
       "      <td>2014</td>\n",
       "      <td>3</td>\n",
       "      <td>1</td>\n",
       "      <td>0</td>\n",
       "      <td>0</td>\n",
       "      <td>32</td>\n",
       "      <td>MA</td>\n",
       "      <td>-71.459405</td>\n",
       "      <td>01886</td>\n",
       "      <td>42.446396</td>\n",
       "      <td>Westford</td>\n",
       "    </tr>\n",
       "    <tr>\n",
       "      <th>3</th>\n",
       "      <td>18-24</td>\n",
       "      <td>NaN</td>\n",
       "      <td>Technology</td>\n",
       "      <td>android</td>\n",
       "      <td>View Project</td>\n",
       "      <td>M</td>\n",
       "      <td>single</td>\n",
       "      <td>2014</td>\n",
       "      <td>3</td>\n",
       "      <td>1</td>\n",
       "      <td>0</td>\n",
       "      <td>0</td>\n",
       "      <td>38</td>\n",
       "      <td>NY</td>\n",
       "      <td>-73.809266</td>\n",
       "      <td>12981</td>\n",
       "      <td>44.624413</td>\n",
       "      <td>Saranac</td>\n",
       "    </tr>\n",
       "    <tr>\n",
       "      <th>4</th>\n",
       "      <td>25-34</td>\n",
       "      <td>NaN</td>\n",
       "      <td>Sports</td>\n",
       "      <td>iOS</td>\n",
       "      <td>View Project</td>\n",
       "      <td>F</td>\n",
       "      <td>married</td>\n",
       "      <td>2014</td>\n",
       "      <td>3</td>\n",
       "      <td>1</td>\n",
       "      <td>0</td>\n",
       "      <td>0</td>\n",
       "      <td>51</td>\n",
       "      <td>MO</td>\n",
       "      <td>-93.458626</td>\n",
       "      <td>65681</td>\n",
       "      <td>36.747083</td>\n",
       "      <td>Lampe</td>\n",
       "    </tr>\n",
       "  </tbody>\n",
       "</table>\n",
       "</div>"
      ],
      "text/plain": [
       "     age  amount     category   device    event_name gender marital_status  \\\n",
       "0  18-24     NaN       Sports  android  View Project      M        married   \n",
       "1  18-24     NaN   Technology      iOS  View Project      M         single   \n",
       "2    55+     NaN  Environment      iOS  View Project      M         single   \n",
       "3  18-24     NaN   Technology  android  View Project      M         single   \n",
       "4  25-34     NaN       Sports      iOS  View Project      F        married   \n",
       "\n",
       "   year  month  day  hour  minute  second state   longitude zip_code  \\\n",
       "0  2014      3    1     0       0       4    CO -105.355280    80540   \n",
       "1  2014      3    1     0       0      22    GA  -84.474050    30009   \n",
       "2  2014      3    1     0       0      32    MA  -71.459405    01886   \n",
       "3  2014      3    1     0       0      38    NY  -73.809266    12981   \n",
       "4  2014      3    1     0       0      51    MO  -93.458626    65681   \n",
       "\n",
       "    latitude        city  \n",
       "0  40.189788       Lyons  \n",
       "1  33.844371  Alpharetta  \n",
       "2  42.446396    Westford  \n",
       "3  44.624413     Saranac  \n",
       "4  36.747083       Lampe  "
      ]
     },
     "execution_count": 101,
     "metadata": {},
     "output_type": "execute_result"
    }
   ],
   "source": [
    "df.head()"
   ]
  },
  {
   "cell_type": "code",
   "execution_count": 102,
   "metadata": {},
   "outputs": [],
   "source": [
    "view=df[df['event_name']==\"View Project\"]\n",
    "fund=df[df['event_name']==\"Fund Project\"]"
   ]
  },
  {
   "cell_type": "code",
   "execution_count": 124,
   "metadata": {},
   "outputs": [],
   "source": [
    "view_age=view['age'].value_counts().index.tolist()\n",
    "view_age_count=view['age'].value_counts().values.tolist()\n",
    "fund_age=fund['age'].value_counts().index.tolist()\n",
    "fund_age_count=fund['age'].value_counts().values.tolist()"
   ]
  },
  {
   "cell_type": "code",
   "execution_count": 158,
   "metadata": {},
   "outputs": [
    {
     "data": {
      "text/plain": [
       "<matplotlib.figure.Figure at 0x12c58c0f0>"
      ]
     },
     "metadata": {},
     "output_type": "display_data"
    },
    {
     "data": {
      "image/png": "[encoded data removed]",
      "text/plain": [
       "<matplotlib.figure.Figure at 0x12c58c5f8>"
      ]
     },
     "metadata": {},
     "output_type": "display_data"
    }
   ],
   "source": [
    "plt.figure(figsize=(15,7))\n",
    "fig,axes=plt.subplots(nrows=1,ncols=2)\n",
    "fig.set_figheight(7)\n",
    "fig.set_figwidth(19)\n",
    "axes[0].bar(np.arange(5),view_age_count,tick_label=view_age)\n",
    "axes[0].set_title(\"with view\")\n",
    "axes[1].bar(np.arange(5),fund_age_count,tick_label=fund_age)\n",
    "axes[1].set_title(\"with fund\")\n",
    "\n",
    "plt.show()"
   ]
  },
  {
   "cell_type": "code",
   "execution_count": 299,
   "metadata": {},
   "outputs": [
    {
     "data": {
      "image/png": "[encoded data removed]",
      "text/plain": [
       "<matplotlib.figure.Figure at 0x12c1d12b0>"
      ]
     },
     "metadata": {},
     "output_type": "display_data"
    }
   ],
   "source": [
    "plt.figure(figsize=(12,5))\n",
    "sns.barplot([0,1,2],fund['gender'].value_counts().values.tolist())\n",
    "plt.xticks([0,1,2],fund['gender'].value_counts().index.tolist())\n",
    "plt.title(\"Popular gender in Fund\",fontsize=20,fontweight=\"semibold\")\n",
    "plt.show()"
   ]
  },
  {
   "cell_type": "code",
   "execution_count": 287,
   "metadata": {},
   "outputs": [
    {
     "data": {
      "text/plain": [
       "[9602, 9571, 1485]"
      ]
     },
     "execution_count": 287,
     "metadata": {},
     "output_type": "execute_result"
    }
   ],
   "source": [
    "fund['gender'].value_counts().values.tolist()"
   ]
  },
  {
   "cell_type": "code",
   "execution_count": 300,
   "metadata": {},
   "outputs": [
    {
     "data": {
      "image/png": "[encoded data removed]",
      "text/plain": [
       "<matplotlib.figure.Figure at 0x12c539898>"
      ]
     },
     "metadata": {},
     "output_type": "display_data"
    }
   ],
   "source": [
    "plt.figure(figsize=(15,7))\n",
    "plt.bar(np.arange(1,21),view['city'].value_counts()[:20].values.tolist(),color='red')\n",
    "plt.bar(np.arange(1,21),fund['city'].value_counts()[:20].values.tolist(),color='blue')\n",
    "plt.xticks(np.arange(1,21),view['city'].value_counts()[:20].index.tolist(),rotation=60)\n",
    "plt.title(\"Event counts by city\",fontsize=20,fontweight=\"semibold\")\n",
    "\n",
    "topbar = plt.Rectangle((0,0),1,1,fc=\"red\", edgecolor = 'none')\n",
    "bottombar = plt.Rectangle((0,0),1,1,fc='blue',  edgecolor = 'none')\n",
    "l = plt.legend([bottombar, topbar], ['Fund', 'View'], loc=1, ncol = 2, prop={'size':16})\n",
    "l.draw_frame(False)\n",
    "\n",
    "plt.show()"
   ]
  },
  {
   "cell_type": "code",
   "execution_count": 401,
   "metadata": {},
   "outputs": [
    {
     "data": {
      "image/png": "[encoded data removed]",
      "text/plain": [
       "<matplotlib.figure.Figure at 0x12bea3390>"
      ]
     },
     "metadata": {},
     "output_type": "display_data"
    }
   ],
   "source": [
    "plt.figure(figsize=(15,5))\n",
    "plt.bar([0,1],fund.groupby(['marital_status'])['amount'].sum().values.tolist())\n",
    "plt.xticks([0,1],fund.groupby(['marital_status'])['amount'].sum().index.tolist())\n",
    "plt.title(\"Contribution to the fund based on the marital_status\",fontsize=20,fontweight=\"semibold\")\n",
    "plt.show()"
   ]
  },
  {
   "cell_type": "code",
   "execution_count": 402,
   "metadata": {},
   "outputs": [
    {
     "data": {
      "text/plain": [
       "device\n",
       "android    283545.0\n",
       "iOS        530525.0\n",
       "Name: amount, dtype: float64"
      ]
     },
     "execution_count": 402,
     "metadata": {},
     "output_type": "execute_result"
    }
   ],
   "source": [
    "fund.groupby(['device'])['amount'].sum()"
   ]
  },
  {
   "cell_type": "code",
   "execution_count": 404,
   "metadata": {},
   "outputs": [
    {
     "data": {
      "image/png": "[encoded data removed]",
      "text/plain": [
       "<matplotlib.figure.Figure at 0x126569da0>"
      ]
     },
     "metadata": {},
     "output_type": "display_data"
    }
   ],
   "source": [
    "plt.figure(figsize=(15,5))\n",
    "plt.bar([0,1],fund.groupby(['device'])['amount'].sum().values.tolist())\n",
    "plt.xticks([0,1],fund.groupby(['device'])['amount'].sum().index.tolist())\n",
    "plt.title(\"Contribution to the fund based on OS users\",fontsize=20,fontweight=\"semibold\")\n",
    "plt.show()"
   ]
  },
  {
   "cell_type": "code",
   "execution_count": 387,
   "metadata": {},
   "outputs": [
    {
     "data": {
      "text/plain": [
       "married    13483\n",
       "single      7175\n",
       "Name: marital_status, dtype: int64"
      ]
     },
     "execution_count": 387,
     "metadata": {},
     "output_type": "execute_result"
    }
   ],
   "source": [
    "fund['marital_status'].value_counts()"
   ]
  },
  {
   "cell_type": "code",
   "execution_count": 225,
   "metadata": {},
   "outputs": [
    {
     "data": {
      "text/plain": [
       "age    device \n",
       "18-24  iOS        8973\n",
       "       android    4983\n",
       "25-34  iOS        2393\n",
       "       android    1342\n",
       "35-44  iOS        2567\n",
       "       android    1433\n",
       "45-54  iOS        2450\n",
       "       android    1410\n",
       "55+    iOS        2445\n",
       "       android    1346\n",
       "Name: device, dtype: int64"
      ]
     },
     "execution_count": 225,
     "metadata": {},
     "output_type": "execute_result"
    }
   ],
   "source": [
    "view.groupby(['age'])['device'].value_counts()"
   ]
  },
  {
   "cell_type": "code",
   "execution_count": 262,
   "metadata": {},
   "outputs": [
    {
     "data": {
      "text/plain": [
       "iOS        9849\n",
       "android    3634\n",
       "Name: device, dtype: int64"
      ]
     },
     "execution_count": 262,
     "metadata": {},
     "output_type": "execute_result"
    }
   ],
   "source": [
    "fund[fund['marital_status']==\"married\"].device.value_counts()"
   ]
  },
  {
   "cell_type": "code",
   "execution_count": 263,
   "metadata": {},
   "outputs": [
    {
     "data": {
      "text/plain": [
       "iOS        3610\n",
       "android    3565\n",
       "Name: device, dtype: int64"
      ]
     },
     "execution_count": 263,
     "metadata": {},
     "output_type": "execute_result"
    }
   ],
   "source": [
    "fund[fund['marital_status']==\"single\"].device.value_counts()"
   ]
  },
  {
   "cell_type": "code",
   "execution_count": 325,
   "metadata": {},
   "outputs": [
    {
     "data": {
      "image/png": "[encoded data removed]",
      "text/plain": [
       "<matplotlib.figure.Figure at 0x12bfab278>"
      ]
     },
     "metadata": {},
     "output_type": "display_data"
    }
   ],
   "source": [
    "fig,axes=plt.subplots(nrows=1,ncols=2)\n",
    "fig.set_figheight(7)\n",
    "fig.set_figwidth(19)\n",
    "axes[0].pie(fund[fund['marital_status']==\"married\"].device.value_counts().values.tolist(),labels=[\"ios\",\"android\"])\n",
    "axes[0].set_title(\"Popular os among  married people in the fund \")\n",
    "axes[1].pie(fund[fund['marital_status']==\"single\"].device.value_counts().values.tolist(),labels=[\"ios\",\"android\"])\n",
    "axes[1].set_title(\"popular os among  single people in the fund\")\n",
    "plt.show()"
   ]
  },
  {
   "cell_type": "code",
   "execution_count": 304,
   "metadata": {},
   "outputs": [
    {
     "data": {
      "text/html": [
       "<div>\n",
       "<style>\n",
       "    .dataframe thead tr:only-child th {\n",
       "        text-align: right;\n",
       "    }\n",
       "\n",
       "    .dataframe thead th {\n",
       "        text-align: left;\n",
       "    }\n",
       "\n",
       "    .dataframe tbody tr th {\n",
       "        vertical-align: top;\n",
       "    }\n",
       "</style>\n",
       "<table border=\"1\" class=\"dataframe\">\n",
       "  <thead>\n",
       "    <tr style=\"text-align: right;\">\n",
       "      <th></th>\n",
       "      <th>age</th>\n",
       "      <th>amount</th>\n",
       "      <th>category</th>\n",
       "      <th>device</th>\n",
       "      <th>event_name</th>\n",
       "      <th>gender</th>\n",
       "      <th>marital_status</th>\n",
       "      <th>year</th>\n",
       "      <th>month</th>\n",
       "      <th>day</th>\n",
       "      <th>hour</th>\n",
       "      <th>minute</th>\n",
       "      <th>second</th>\n",
       "      <th>state</th>\n",
       "      <th>longitude</th>\n",
       "      <th>zip_code</th>\n",
       "      <th>latitude</th>\n",
       "      <th>city</th>\n",
       "    </tr>\n",
       "  </thead>\n",
       "  <tbody>\n",
       "    <tr>\n",
       "      <th>11</th>\n",
       "      <td>45-54</td>\n",
       "      <td>61.0</td>\n",
       "      <td>Fashion</td>\n",
       "      <td>iOS</td>\n",
       "      <td>Fund Project</td>\n",
       "      <td>F</td>\n",
       "      <td>married</td>\n",
       "      <td>2014</td>\n",
       "      <td>3</td>\n",
       "      <td>1</td>\n",
       "      <td>0</td>\n",
       "      <td>2</td>\n",
       "      <td>42</td>\n",
       "      <td>IN</td>\n",
       "      <td>-86.254272</td>\n",
       "      <td>46975</td>\n",
       "      <td>41.040988</td>\n",
       "      <td>Rochester</td>\n",
       "    </tr>\n",
       "    <tr>\n",
       "      <th>16</th>\n",
       "      <td>18-24</td>\n",
       "      <td>31.0</td>\n",
       "      <td>Sports</td>\n",
       "      <td>android</td>\n",
       "      <td>Fund Project</td>\n",
       "      <td>M</td>\n",
       "      <td>married</td>\n",
       "      <td>2014</td>\n",
       "      <td>3</td>\n",
       "      <td>1</td>\n",
       "      <td>0</td>\n",
       "      <td>3</td>\n",
       "      <td>20</td>\n",
       "      <td>CO</td>\n",
       "      <td>-105.355280</td>\n",
       "      <td>80540</td>\n",
       "      <td>40.189788</td>\n",
       "      <td>Lyons</td>\n",
       "    </tr>\n",
       "    <tr>\n",
       "      <th>18</th>\n",
       "      <td>18-24</td>\n",
       "      <td>39.0</td>\n",
       "      <td>Technology</td>\n",
       "      <td>android</td>\n",
       "      <td>Fund Project</td>\n",
       "      <td>M</td>\n",
       "      <td>single</td>\n",
       "      <td>2014</td>\n",
       "      <td>3</td>\n",
       "      <td>1</td>\n",
       "      <td>0</td>\n",
       "      <td>3</td>\n",
       "      <td>31</td>\n",
       "      <td>CO</td>\n",
       "      <td>-105.355280</td>\n",
       "      <td>80540</td>\n",
       "      <td>40.189788</td>\n",
       "      <td>Lyons</td>\n",
       "    </tr>\n",
       "    <tr>\n",
       "      <th>25</th>\n",
       "      <td>18-24</td>\n",
       "      <td>36.0</td>\n",
       "      <td>Technology</td>\n",
       "      <td>iOS</td>\n",
       "      <td>Fund Project</td>\n",
       "      <td>M</td>\n",
       "      <td>single</td>\n",
       "      <td>2014</td>\n",
       "      <td>3</td>\n",
       "      <td>1</td>\n",
       "      <td>0</td>\n",
       "      <td>4</td>\n",
       "      <td>4</td>\n",
       "      <td>GA</td>\n",
       "      <td>-84.474050</td>\n",
       "      <td>30009</td>\n",
       "      <td>33.844371</td>\n",
       "      <td>Alpharetta</td>\n",
       "    </tr>\n",
       "    <tr>\n",
       "      <th>35</th>\n",
       "      <td>18-24</td>\n",
       "      <td>40.0</td>\n",
       "      <td>Sports</td>\n",
       "      <td>android</td>\n",
       "      <td>Fund Project</td>\n",
       "      <td>M</td>\n",
       "      <td>married</td>\n",
       "      <td>2014</td>\n",
       "      <td>3</td>\n",
       "      <td>1</td>\n",
       "      <td>0</td>\n",
       "      <td>6</td>\n",
       "      <td>35</td>\n",
       "      <td>OR</td>\n",
       "      <td>-122.691388</td>\n",
       "      <td>97034</td>\n",
       "      <td>45.408374</td>\n",
       "      <td>Lake Oswego</td>\n",
       "    </tr>\n",
       "  </tbody>\n",
       "</table>\n",
       "</div>"
      ],
      "text/plain": [
       "      age  amount    category   device    event_name gender marital_status  \\\n",
       "11  45-54    61.0     Fashion      iOS  Fund Project      F        married   \n",
       "16  18-24    31.0      Sports  android  Fund Project      M        married   \n",
       "18  18-24    39.0  Technology  android  Fund Project      M         single   \n",
       "25  18-24    36.0  Technology      iOS  Fund Project      M         single   \n",
       "35  18-24    40.0      Sports  android  Fund Project      M        married   \n",
       "\n",
       "    year  month  day  hour  minute  second state   longitude zip_code  \\\n",
       "11  2014      3    1     0       2      42    IN  -86.254272    46975   \n",
       "16  2014      3    1     0       3      20    CO -105.355280    80540   \n",
       "18  2014      3    1     0       3      31    CO -105.355280    80540   \n",
       "25  2014      3    1     0       4       4    GA  -84.474050    30009   \n",
       "35  2014      3    1     0       6      35    OR -122.691388    97034   \n",
       "\n",
       "     latitude         city  \n",
       "11  41.040988    Rochester  \n",
       "16  40.189788        Lyons  \n",
       "18  40.189788        Lyons  \n",
       "25  33.844371   Alpharetta  \n",
       "35  45.408374  Lake Oswego  "
      ]
     },
     "execution_count": 304,
     "metadata": {},
     "output_type": "execute_result"
    }
   ],
   "source": [
    "fund.head()"
   ]
  },
  {
   "cell_type": "markdown",
   "metadata": {},
   "source": [
    "# Which age group contributed most to the fund"
   ]
  },
  {
   "cell_type": "code",
   "execution_count": 315,
   "metadata": {},
   "outputs": [
    {
     "data": {
      "text/plain": [
       "age\n",
       "18-24    411077.0\n",
       "25-34     99763.0\n",
       "35-44    105597.0\n",
       "45-54     98695.0\n",
       "55+       98938.0\n",
       "Name: amount, dtype: float64"
      ]
     },
     "execution_count": 315,
     "metadata": {},
     "output_type": "execute_result"
    }
   ],
   "source": [
    "fund.groupby(['age'])['amount'].sum()"
   ]
  },
  {
   "cell_type": "code",
   "execution_count": 324,
   "metadata": {},
   "outputs": [
    {
     "data": {
      "image/png": "[encoded data removed]",
      "text/plain": [
       "<matplotlib.figure.Figure at 0x12c0f1a58>"
      ]
     },
     "metadata": {},
     "output_type": "display_data"
    }
   ],
   "source": [
    "plt.figure(figsize=(15,7))\n",
    "sns.barplot(np.arange(0,5),fund.groupby(['age'])['amount'].sum().values.tolist())\n",
    "plt.xticks(np.arange(0,5),fund.groupby(['age'])['amount'].sum().index.tolist())\n",
    "plt.title(\"Most contribution to fund by age\",fontsize=20,fontweight=\"semibold\")\n",
    "plt.show()"
   ]
  },
  {
   "cell_type": "code",
   "execution_count": 326,
   "metadata": {},
   "outputs": [
    {
     "data": {
      "text/html": [
       "<div>\n",
       "<style>\n",
       "    .dataframe thead tr:only-child th {\n",
       "        text-align: right;\n",
       "    }\n",
       "\n",
       "    .dataframe thead th {\n",
       "        text-align: left;\n",
       "    }\n",
       "\n",
       "    .dataframe tbody tr th {\n",
       "        vertical-align: top;\n",
       "    }\n",
       "</style>\n",
       "<table border=\"1\" class=\"dataframe\">\n",
       "  <thead>\n",
       "    <tr style=\"text-align: right;\">\n",
       "      <th></th>\n",
       "      <th>age</th>\n",
       "      <th>amount</th>\n",
       "      <th>category</th>\n",
       "      <th>device</th>\n",
       "      <th>event_name</th>\n",
       "      <th>gender</th>\n",
       "      <th>marital_status</th>\n",
       "      <th>day</th>\n",
       "      <th>hour</th>\n",
       "      <th>minute</th>\n",
       "      <th>second</th>\n",
       "      <th>state</th>\n",
       "      <th>longitude</th>\n",
       "      <th>zip_code</th>\n",
       "      <th>latitude</th>\n",
       "      <th>city</th>\n",
       "    </tr>\n",
       "  </thead>\n",
       "  <tbody>\n",
       "    <tr>\n",
       "      <th>11</th>\n",
       "      <td>45-54</td>\n",
       "      <td>61.0</td>\n",
       "      <td>Fashion</td>\n",
       "      <td>iOS</td>\n",
       "      <td>Fund Project</td>\n",
       "      <td>F</td>\n",
       "      <td>married</td>\n",
       "      <td>1</td>\n",
       "      <td>0</td>\n",
       "      <td>2</td>\n",
       "      <td>42</td>\n",
       "      <td>IN</td>\n",
       "      <td>-86.254272</td>\n",
       "      <td>46975</td>\n",
       "      <td>41.040988</td>\n",
       "      <td>Rochester</td>\n",
       "    </tr>\n",
       "    <tr>\n",
       "      <th>16</th>\n",
       "      <td>18-24</td>\n",
       "      <td>31.0</td>\n",
       "      <td>Sports</td>\n",
       "      <td>android</td>\n",
       "      <td>Fund Project</td>\n",
       "      <td>M</td>\n",
       "      <td>married</td>\n",
       "      <td>1</td>\n",
       "      <td>0</td>\n",
       "      <td>3</td>\n",
       "      <td>20</td>\n",
       "      <td>CO</td>\n",
       "      <td>-105.355280</td>\n",
       "      <td>80540</td>\n",
       "      <td>40.189788</td>\n",
       "      <td>Lyons</td>\n",
       "    </tr>\n",
       "    <tr>\n",
       "      <th>18</th>\n",
       "      <td>18-24</td>\n",
       "      <td>39.0</td>\n",
       "      <td>Technology</td>\n",
       "      <td>android</td>\n",
       "      <td>Fund Project</td>\n",
       "      <td>M</td>\n",
       "      <td>single</td>\n",
       "      <td>1</td>\n",
       "      <td>0</td>\n",
       "      <td>3</td>\n",
       "      <td>31</td>\n",
       "      <td>CO</td>\n",
       "      <td>-105.355280</td>\n",
       "      <td>80540</td>\n",
       "      <td>40.189788</td>\n",
       "      <td>Lyons</td>\n",
       "    </tr>\n",
       "    <tr>\n",
       "      <th>25</th>\n",
       "      <td>18-24</td>\n",
       "      <td>36.0</td>\n",
       "      <td>Technology</td>\n",
       "      <td>iOS</td>\n",
       "      <td>Fund Project</td>\n",
       "      <td>M</td>\n",
       "      <td>single</td>\n",
       "      <td>1</td>\n",
       "      <td>0</td>\n",
       "      <td>4</td>\n",
       "      <td>4</td>\n",
       "      <td>GA</td>\n",
       "      <td>-84.474050</td>\n",
       "      <td>30009</td>\n",
       "      <td>33.844371</td>\n",
       "      <td>Alpharetta</td>\n",
       "    </tr>\n",
       "    <tr>\n",
       "      <th>35</th>\n",
       "      <td>18-24</td>\n",
       "      <td>40.0</td>\n",
       "      <td>Sports</td>\n",
       "      <td>android</td>\n",
       "      <td>Fund Project</td>\n",
       "      <td>M</td>\n",
       "      <td>married</td>\n",
       "      <td>1</td>\n",
       "      <td>0</td>\n",
       "      <td>6</td>\n",
       "      <td>35</td>\n",
       "      <td>OR</td>\n",
       "      <td>-122.691388</td>\n",
       "      <td>97034</td>\n",
       "      <td>45.408374</td>\n",
       "      <td>Lake Oswego</td>\n",
       "    </tr>\n",
       "  </tbody>\n",
       "</table>\n",
       "</div>"
      ],
      "text/plain": [
       "      age  amount    category   device    event_name gender marital_status  \\\n",
       "11  45-54    61.0     Fashion      iOS  Fund Project      F        married   \n",
       "16  18-24    31.0      Sports  android  Fund Project      M        married   \n",
       "18  18-24    39.0  Technology  android  Fund Project      M         single   \n",
       "25  18-24    36.0  Technology      iOS  Fund Project      M         single   \n",
       "35  18-24    40.0      Sports  android  Fund Project      M        married   \n",
       "\n",
       "    day  hour  minute  second state   longitude zip_code   latitude  \\\n",
       "11    1     0       2      42    IN  -86.254272    46975  41.040988   \n",
       "16    1     0       3      20    CO -105.355280    80540  40.189788   \n",
       "18    1     0       3      31    CO -105.355280    80540  40.189788   \n",
       "25    1     0       4       4    GA  -84.474050    30009  33.844371   \n",
       "35    1     0       6      35    OR -122.691388    97034  45.408374   \n",
       "\n",
       "           city  \n",
       "11    Rochester  \n",
       "16        Lyons  \n",
       "18        Lyons  \n",
       "25   Alpharetta  \n",
       "35  Lake Oswego  "
      ]
     },
     "execution_count": 326,
     "metadata": {},
     "output_type": "execute_result"
    }
   ],
   "source": [
    "fund.head()"
   ]
  },
  {
   "cell_type": "code",
   "execution_count": 327,
   "metadata": {},
   "outputs": [
    {
     "data": {
      "text/plain": [
       "Sports         4179\n",
       "Games          4173\n",
       "Technology     4144\n",
       "Environment    4089\n",
       "Fashion        4073\n",
       "Name: category, dtype: int64"
      ]
     },
     "execution_count": 327,
     "metadata": {},
     "output_type": "execute_result"
    }
   ],
   "source": [
    "fund['category'].value_counts()"
   ]
  },
  {
   "cell_type": "code",
   "execution_count": 341,
   "metadata": {},
   "outputs": [
    {
     "data": {
      "text/plain": [
       "device   category   \n",
       "android  Sports         1502\n",
       "         Technology     1469\n",
       "         Games          1442\n",
       "         Fashion        1395\n",
       "         Environment    1391\n",
       "iOS      Games          2731\n",
       "         Environment    2698\n",
       "         Fashion        2678\n",
       "         Sports         2677\n",
       "         Technology     2675\n",
       "Name: category, dtype: int64"
      ]
     },
     "execution_count": 341,
     "metadata": {},
     "output_type": "execute_result"
    }
   ],
   "source": [
    "fund.groupby(['device'])['category'].value_counts()"
   ]
  },
  {
   "cell_type": "code",
   "execution_count": 342,
   "metadata": {},
   "outputs": [
    {
     "data": {
      "text/plain": [
       "[1502, 1469, 1442, 1395, 1391, 2731, 2698, 2678, 2677, 2675]"
      ]
     },
     "execution_count": 342,
     "metadata": {},
     "output_type": "execute_result"
    }
   ],
   "source": [
    "fund.groupby(['device'])['category'].value_counts().tolist()"
   ]
  },
  {
   "cell_type": "code",
   "execution_count": 385,
   "metadata": {},
   "outputs": [
    {
     "data": {
      "text/plain": [
       "<matplotlib.figure.Figure at 0x12c0f1a90>"
      ]
     },
     "metadata": {},
     "output_type": "display_data"
    },
    {
     "data": {
      "image/png": "[encoded data removed]",
      "text/plain": [
       "<matplotlib.figure.Figure at 0x1221f25f8>"
      ]
     },
     "metadata": {},
     "output_type": "display_data"
    }
   ],
   "source": [
    "ios_cat=['sports','Technology','Games','Fashion','Environment']\n",
    "android_cat=['Games','Environment','Fashion','sports','Technology']\n",
    "#s=['sports','Technology','Games','Fashion','Environment']\n",
    "#d=['Games','Environment','Fashion','sports','Technology']\n",
    "plt.figure(figsize=(15,7))\n",
    "fig,axes=plt.subplots(nrows=1,ncols=2)\n",
    "fig.set_figheight(7)\n",
    "fig.set_figwidth(19)\n",
    "axes[0].bar(np.arange(5),fund.groupby(['device'])['category'].value_counts().tolist()[:5],tick_label=ios_cat)\n",
    "axes[0].set_title(\"popular catgories among ios users \")\n",
    "axes[1].bar(np.arange(5),fund.groupby(['device'])['category'].value_counts().tolist()[5:],tick_label=android_cat)\n",
    "axes[1].set_title(\"popular catgories among android users \")\n",
    "\n",
    "plt.show()"
   ]
  },
  {
   "cell_type": "code",
   "execution_count": null,
   "metadata": {},
   "outputs": [],
   "source": []
  },
  {
   "cell_type": "code",
   "execution_count": null,
   "metadata": {},
   "outputs": [],
   "source": []
  },
  {
   "cell_type": "code",
   "execution_count": null,
   "metadata": {},
   "outputs": [],
   "source": []
  },
  {
   "cell_type": "code",
   "execution_count": null,
   "metadata": {
    "collapsed": true
   },
   "outputs": [],
   "source": []
  }
 ],
 "metadata": {
  "kernelspec": {
   "display_name": "Python 3",
   "language": "python",
   "name": "python3"
  },
  "language_info": {
   "codemirror_mode": {
    "name": "ipython",
    "version": 3
   },
   "file_extension": ".py",
   "mimetype": "text/x-python",
   "name": "python",
   "nbconvert_exporter": "python",
   "pygments_lexer": "ipython3",
   "version": "3.5.4"
  }
 },
 "nbformat": 4,
 "nbformat_minor": 2
}
